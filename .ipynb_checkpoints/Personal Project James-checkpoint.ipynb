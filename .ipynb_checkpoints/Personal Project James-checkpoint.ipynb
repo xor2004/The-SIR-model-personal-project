{
 "cells": [
  {
   "cell_type": "markdown",
   "metadata": {},
   "source": [
    "# The SIR model of infection for Covid-19 and other infective diseases"
   ]
  },
  {
   "cell_type": "markdown",
   "metadata": {},
   "source": [
    "#### James Jia"
   ]
  },
  {
   "cell_type": "markdown",
   "metadata": {},
   "source": [
    "## Table of contents\n",
    " - [Introduction](#Introduction)\n",
    " - [What is the SIR model?](#What-is-the-SIR-model?)\n",
    " - [Use of the SIR model during the Covid-19 pandemic](#Use-of-the-SIR-model-during-the-Covid-19-pandemic)\n",
    " - [Try out yourself!](#Try-out-yourself!)\n",
    " - [Conclusion](#Conclusion)\n",
    " - [References](#References)"
   ]
  },
  {
   "cell_type": "markdown",
   "metadata": {},
   "source": [
    "## Introduction\n",
    "\n",
    "In the beginning of 2020 there was a small outbreak of a novel coronavirus in Wuhan, China. It quickly spread across the world, and the uncertainty was very high because of the high infectivity and long incubation time where there would be no symptoms at all. This is not the first time the world has encountered a pandemic. Throughout history, the black death, spanish flu, smallpox etc. have plagued humanity. Luckily, there are ways to make predictions of pandemics such as the coronavirus using the SIR model of infectious diseases. I wanted to investigate how the SIR model works and use Covid-19 as an example to showcase my take on this model with Python."
   ]
  },
  {
   "cell_type": "markdown",
   "metadata": {},
   "source": [
    "## What is the SIR model?\n",
    "\n",
    "The SIR model of infection diseases is used to model and illustrate how diseases spread using (mainly) three dependent variables: **S**, **I** and **R** which stands for susceptible, infectious and removed respectively. In this case, the independent variable is **t** for time. The constants are **P** for population size, **d** for daily encounters, **a** for infectivity, **c** for number of infected people to start with, and **r** for rate of removal. In my model, I'm using a discrete time model to illustrate the change in numbers from day to day which is shown under:"
   ]
  },
  {
   "cell_type": "markdown",
   "metadata": {},
   "source": [
    "$ S(t+1)=S(t)-I(t)*d*a*S(t)/P $"
   ]
  },
  {
   "cell_type": "markdown",
   "metadata": {},
   "source": [
    "$ I(t+1)=I(t)+I(t)*d*a*S(t)/P-I(t)*r $"
   ]
  },
  {
   "cell_type": "markdown",
   "metadata": {},
   "source": [
    "$ R(t+1)=R(t)+I(t)*r $"
   ]
  },
  {
   "cell_type": "markdown",
   "metadata": {},
   "source": [
    "$ S(0)=P-c$"
   ]
  },
  {
   "cell_type": "markdown",
   "metadata": {},
   "source": [
    "$ I(0)=c $"
   ]
  },
  {
   "cell_type": "markdown",
   "metadata": {},
   "source": [
    "$ R(0)=0 $"
   ]
  },
  {
   "cell_type": "markdown",
   "metadata": {},
   "source": [
    "*Important note: the infectivity is what the probability of an infected person infecting a susceptible person they has been in close contact with (part of **daily encounters**), and rate of removal is the probability that an infected person will go over to the \"removed\" set.*"
   ]
  },
  {
   "cell_type": "markdown",
   "metadata": {},
   "source": [
    "## Use of the SIR model during the Covid-19 pandemic\n",
    "\n",
    "Covid-19 has been going on for over a year now and the SIR model is more relevant than ever. Obviously every country and region will have different constants or factors that affects the infectivity and removal rate of the disease, so lets take Norway as an example. Sources suggest that the *R number* of the coronavirus should be around 3 when there are no restrictions at all. The R number aka reproduction number is the average number of susceptible an infected will infect throughout the time they are contagious. As you probably can see, I'm not using a direct constant for the R number, I have split the R number into 3 parts that are proportional to each other, namely \"daily encounters\", \"infectivity and \"Susceptible/population (percentage of the daily encounters that are susceptible)\". This means that **d** multiplied by **a** should be 3 multiplied by **r**, which we know is around 0.05 (on average, a sick person with Covid-19 is no longer contagious at around the 20 day mark). So let's assign values **d**=10 and **a**=0.015 to begin with over the span of one year, and later we can adjust the numbers to fit different scenarios.\n",
    "\n",
    "I have used several python packages such as **math**, **numpy** and **mathplotlib** during the implementation of the SIR model, so it is necessary to import these packages before one start."
   ]
  },
  {
   "cell_type": "code",
   "execution_count": null,
   "metadata": {},
   "outputs": [],
   "source": [
    "import math\n",
    "\n",
    "import numpy as np\n",
    "\n",
    "import matplotlib.pyplot as plt"
   ]
  },
  {
   "cell_type": "markdown",
   "metadata": {},
   "source": [
    "The following function is used to simulate the path of infection of Covid-19 for given parameters"
   ]
  },
  {
   "cell_type": "code",
   "execution_count": null,
   "metadata": {},
   "outputs": [],
   "source": [
    "def discrete_corona(a,b,c,d):\n",
    "    \n",
    "    S = [0 for t in range(d+1)]\n",
    "\n",
    "    I = [0 for t in range(d+1)]\n",
    "\n",
    "    R = [0 for t in range(d+1)]\n",
    "\n",
    "    new_infected = [0 for t in range(d+1)]\n",
    "        \n",
    "    new_removed = [0 for t in range(d+1)]\n",
    "        \n",
    "    S[0] = 5400000 - c\n",
    "\n",
    "    I[0] = c\n",
    "        \n",
    "    R[0] = 0\n",
    "        \n",
    "    new_infected[0] = 0\n",
    "        \n",
    "    t=1\n",
    "    \n",
    "    while t <= d:\n",
    "        \n",
    "        new_infected[t] = min(S[t-1], math.ceil(I[t-1] * a * b * S[t-1] / 5400000))\n",
    "        \n",
    "        new_removed[t] = math.floor(I[t-1] * 0.05)\n",
    "        \n",
    "        S[t] = S[t-1] - new_infected[t]\n",
    "        \n",
    "        I[t] = I[t-1] + new_infected[t] - new_removed[t]\n",
    "        \n",
    "        R[t] = (R[t-1] + new_removed[t])\n",
    "            \n",
    "        t += 1\n",
    "        \n",
    "    return [S, I, R, new_infected, new_removed]"
   ]
  },
  {
   "cell_type": "markdown",
   "metadata": {},
   "source": [
    "The following code uses the function defined aboce to simulate the SIR model for Covid-19 in Norway without any restrictions"
   ]
  },
  {
   "cell_type": "code",
   "execution_count": null,
   "metadata": {},
   "outputs": [],
   "source": [
    "[S_corona1, I_corona1, R_corona1, new_infected_corona1, new_removed_corona1] = discrete_corona(10, 0.015, 1, 365)\n",
    "\n",
    "for t in range(365):\n",
    "    \n",
    "    plt.title('The SIR model for Covid-19 in Norway without any restrictions')\n",
    "        \n",
    "    plt.xlabel('Time(days)')\n",
    "        \n",
    "    plt.ylabel('People')\n",
    "        \n",
    "    plt.plot(S_corona1)\n",
    "        \n",
    "    plt.plot(I_corona1)\n",
    "        \n",
    "    plt.plot(R_corona1)"
   ]
  },
  {
   "cell_type": "code",
   "execution_count": null,
   "metadata": {},
   "outputs": [],
   "source": [
    "for t in range(365):    \n",
    "    \n",
    "    plt.title('Graphs for new infected and new removed each day for Covid-19 in Norway')\n",
    "\n",
    "    plt.xlabel('Time(days)')\n",
    "\n",
    "    plt.ylabel('People')\n",
    "\n",
    "    plt.plot(new_infected_corona1)\n",
    "        \n",
    "    plt.plot(new_removed_corona1)"
   ]
  },
  {
   "cell_type": "markdown",
   "metadata": {},
   "source": [
    "What we see here is a huge spike from around 100-200 days after patient zero gets infected. At most, over 100000 thousand people are infected each day. However, this is not an accurate approximation as a realistic R number is actually much lower taking into account Norways low population density and government actions against the spread of the disease. So, how do we lower the R number? Let's say the government have locked down large parts of society, the **daily encounters** constant will go considerably down. By making masks mandatory, the government can lower the **infectivity** constant. Lastly, by vaccinating to achieve herd immunity, the government can successfully lower the percentage of the population that are susceptible, or **susceptible/population**.\n",
    "\n",
    "Let's assume that the government have done a good job early on when there was no infections whether it was mandatory masks or travel restrictions, such that the R number is 1.6 throughout the outbreak. The graphs would then look like this over the span of two years:"
   ]
  },
  {
   "cell_type": "code",
   "execution_count": null,
   "metadata": {},
   "outputs": [],
   "source": [
    "[S_corona2, I_corona2, R_corona2, new_infected_corona2, new_removed_corona2] = discrete_corona(5, 0.016, 1, 730)\n",
    "\n",
    "for t in range(730):\n",
    "    \n",
    "    plt.title('The SIR model for Covid-19 in Norway with very good restrictions')\n",
    "        \n",
    "    plt.xlabel('Time(days)')\n",
    "        \n",
    "    plt.ylabel('People')\n",
    "        \n",
    "    plt.plot(S_corona2)\n",
    "        \n",
    "    plt.plot(I_corona2)\n",
    "        \n",
    "    plt.plot(R_corona2)"
   ]
  },
  {
   "cell_type": "code",
   "execution_count": null,
   "metadata": {},
   "outputs": [],
   "source": [
    "for t in range(730):\n",
    "    \n",
    "    plt.title('Graphs for new infected and new removed each day for Covid-19 in Norway')\n",
    "\n",
    "    plt.xlabel('Time(days)')\n",
    "\n",
    "    plt.ylabel('People')\n",
    "\n",
    "    plt.plot(new_infected_corona2)\n",
    "        \n",
    "    plt.plot(new_removed_corona2)"
   ]
  },
  {
   "cell_type": "markdown",
   "metadata": {},
   "source": [
    "By comparing the two different R numbers we can clearly see that there is really a huge difference. The first one had over 100000 new infected every day at its peak, and the second one barely had over 20000 at its peak. Also, keep in mind that the second ones are stretched over a twice as long period of time as the first ones. This creates a bigger time buffer for the government to react upon, and the society won't be as much affected as it would be in the first scenario.\n",
    "\n",
    "Sadly, neither the first nor second scenarios are realistic. Usually, there is an outbreak before the government takes action. And when the restrictions are still applied, the R number goes down drastically. In Norway, there were 621 known infected people when the government decided that the whole country would close down March 12th 2020 (I assume that there were around 2000 contagious which is still within reasonable boundaries because of the incubation time), and it stayed closed for 2 months. This is my projection of what happened during the first Norwegian lockdown (R = 0.9):"
   ]
  },
  {
   "cell_type": "code",
   "execution_count": null,
   "metadata": {},
   "outputs": [],
   "source": [
    "[S_corona3, I_corona3, R_corona3, new_infected_corona3, new_removed_corona3] = discrete_corona(2, 0.02, 2000, 60)\n",
    "\n",
    "for t in range(60):\n",
    "    \n",
    "    plt.title('Graphs for new infected and new removed each day for Covid-19 in Norway from 12.03.2020 - approx. 10.05.2020')\n",
    "\n",
    "    plt.xlabel('Time(days)')\n",
    "\n",
    "    plt.ylabel('People')\n",
    "\n",
    "    plt.plot(new_infected_corona3)\n",
    "        \n",
    "    plt.plot(new_removed_corona3)"
   ]
  },
  {
   "cell_type": "markdown",
   "metadata": {},
   "source": [
    "What we see here is that there are very few infections during these two months, and the number goes down every day. The infection numbers have been controlled because the R number is under 1, so there is no exponential growth that can make it go out of control."
   ]
  },
  {
   "cell_type": "markdown",
   "metadata": {},
   "source": [
    "## Try out yourself!"
   ]
  },
  {
   "cell_type": "code",
   "execution_count": null,
   "metadata": {},
   "outputs": [],
   "source": [
    "Population = int(input(\"Please input the population size:\"))    \n",
    "    \n",
    "Infectivity = float(input(\"Please input the infectivity of your disease:\"))\n",
    "\n",
    "Infected_number = int(input(\"Please input the number of infected you want to start with:\"))\n",
    "    \n",
    "Recovery_rate = float(input(\"Please input the recovery rate for your disease:\"))\n",
    "    \n",
    "Daily_encounters = int(input(\"Please input the daily number of other people the infected will come in close contact to:\"))\n",
    "\n",
    "Time = int(input(\"Please input the amount of time(days) you want to calculate:\"))\n",
    "\n",
    "Disease_name = str(input(\"Please give your disease a name:\"))\n",
    "\n",
    "if Population < 0 or Infectivity < 0 or Infectivity > 1 or Recovery_rate < 0 or Recovery_rate > 1 or Daily_encounters < 0 or Daily_encounters > Population or Time < 0 or Infected_number < 0:\n",
    "    \n",
    "    print(\"Something is wrong, please check if all variables are correctly input\")\n",
    "    \n",
    "else:\n",
    "    \n",
    "    def discrete_time_model(a, b, c, d, e, f):\n",
    "    \n",
    "        S = [0 for Time in range(Time + 1)]\n",
    "\n",
    "        I = [0 for Time in range(Time + 1)]\n",
    "\n",
    "        R = [0 for Time in range(Time + 1)]\n",
    "\n",
    "        new_infected = [0 for Time in range(Time + 1)]\n",
    "        \n",
    "        new_removed = [0 for Time in range(Time + 1)]\n",
    "        \n",
    "        S[0] = Population - Infected_number\n",
    "\n",
    "        I[0] = Infected_number\n",
    "        \n",
    "        R[0] = 0\n",
    "        \n",
    "        new_infected[0] = Infected_number\n",
    "        \n",
    "        t=1\n",
    "    \n",
    "        while t <= Time:\n",
    "        \n",
    "            new_infected[t] = min(S[t-1], math.ceil(I[t-1] * Daily_encounters * Infectivity * S[t-1] / Population))\n",
    "        \n",
    "            new_removed[t] = math.floor(I[t-1] * Recovery_rate)\n",
    "        \n",
    "            S[t] = S[t-1] - new_infected[t]\n",
    "        \n",
    "            I[t] = I[t-1] + new_infected[t] - new_removed[t]\n",
    "        \n",
    "            R[t] = (R[t-1] + new_removed[t])\n",
    "            \n",
    "            t += 1\n",
    "        \n",
    "        return [S, I, R, new_infected, new_removed]\n",
    "\n",
    "    [S, I, R, new_infected, new_removed] = discrete_time_model(Population, Infectivity, Infected_number, Recovery_rate, Daily_encounters, Time)\n",
    "    \n",
    "    for t in range(Time):\n",
    "        \n",
    "        plt.title('The SIR model for ' + Disease_name)\n",
    "        \n",
    "        plt.xlabel('Time(days)')\n",
    "        \n",
    "        plt.ylabel('People')\n",
    "        \n",
    "        plt.plot(S)\n",
    "        \n",
    "        plt.plot(I)\n",
    "        \n",
    "        plt.plot(R)"
   ]
  },
  {
   "cell_type": "code",
   "execution_count": null,
   "metadata": {},
   "outputs": [],
   "source": [
    "for t in range(Time):    \n",
    "    \n",
    "    plt.title('Graphs for new infected and new removed each day for ' + Disease_name)\n",
    "\n",
    "    plt.xlabel('Time(days)')\n",
    "\n",
    "    plt.ylabel('People')\n",
    "\n",
    "    plt.plot(new_infected)\n",
    "        \n",
    "    plt.plot(new_removed)"
   ]
  },
  {
   "cell_type": "markdown",
   "metadata": {},
   "source": [
    "## Conclusion\n",
    "\n",
    "As a result of my study, I have found out that the reproduction number is crucial when looking at an infectious disease. Whether it is above or under 1 can result in completely different outcomes, With a R number of 1.1 the disease is bound to exponentially grow, while a R number of 0.9 the number of infected will gradually go down. If there would be a miscalculation of the R number, it could have massive consequences. I think that my analysis works pretty well for projecting future cases and trends, but it could be better. Improvements to the code could be adding more factors to the model, such as age, incubation time, population density and government reactions. "
   ]
  },
  {
   "cell_type": "markdown",
   "metadata": {},
   "source": [
    "## References"
   ]
  },
  {
   "cell_type": "markdown",
   "metadata": {},
   "source": [
    "Facts about the virus and Covid-19 disease. (2020, February 11). Retrieved February 04, 2021, from https://www.fhi.no/en/op/novel-coronavirus-facts-advice/facts-and-knowledge-about-covid-19/facts-about-novel-coronavirus/?term=&amp;h=1\n",
    "\n",
    "Status koronavirus 12. Mars 2020. (2020, March 12). Retrieved February 04, 2021, from https://www.fhi.no/nyheter/2020/status-koronavirus-12.-mars-2020/\n",
    "\n",
    "Nykamp DQ, “An introduction to discrete dynamical systems.” From Math Insight. http://mathinsight.org/discrete_dynamical_system_introduction\n",
    "\n",
    "Smith, D., &amp; Moore, L. (2004, December). The sir model for spread of disease - the differential equation model. Retrieved February 04, 2021, from https://www.maa.org/press/periodicals/loci/joma/the-sir-model-for-spread-of-disease-the-differential-equation-model"
   ]
  },
  {
   "cell_type": "code",
   "execution_count": null,
   "metadata": {},
   "outputs": [],
   "source": []
  }
 ],
 "metadata": {
  "kernelspec": {
   "display_name": "Python 3",
   "language": "python",
   "name": "python3"
  },
  "language_info": {
   "codemirror_mode": {
    "name": "ipython",
    "version": 3
   },
   "file_extension": ".py",
   "mimetype": "text/x-python",
   "name": "python",
   "nbconvert_exporter": "python",
   "pygments_lexer": "ipython3",
   "version": "3.7.6"
  }
 },
 "nbformat": 4,
 "nbformat_minor": 4
}
